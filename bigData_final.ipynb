{
 "cells": [
  {
   "cell_type": "code",
   "execution_count": 10,
   "metadata": {},
   "outputs": [
    {
     "name": "stdout",
     "output_type": "stream",
     "text": [
      "http://www.dhlottery.co.kr/common.do?method=getLottoNumber&drwNo=100\n",
      "Url Request Success\n",
      "{'totSellamnt': 56561977000, 'returnValue': 'success', 'drwNoDate': '2004-10-30', 'firstWinamnt': 3315315525, 'drwtNo6': 42, 'drwtNo4': 23, 'firstPrzwnerCo': 4, 'drwtNo5': 37, 'bnusNo': 6, 'firstAccumamnt': 0, 'drwNo': 100, 'drwtNo2': 7, 'drwtNo3': 11, 'drwtNo1': 1}\n"
     ]
    }
   ],
   "source": [
    "import urllib.request\n",
    "import json\n",
    "\n",
    "import pandas as pd\n",
    "\n",
    "def getLotto(idx):\n",
    "    req = urllib.request.Request(f\"http://www.dhlottery.co.kr/common.do?method=getLottoNumber&drwNo={idx}\")    \n",
    "    try: \n",
    "      response = urllib.request.urlopen(req)\n",
    "      if response.getcode() == 200:\n",
    "        print(\"Url Request Success\")\n",
    "        jsonObj = json.loads(response.read().decode('utf-8'))\n",
    "        return jsonObj\n",
    "    except Exception as e:\n",
    "        print(e)\n",
    "        print(\"Error for URL \")\n",
    "        return None\n",
    "\n",
    "\n",
    "# df = pd.DataFrame();\n",
    "# www.dhlottery.co.kr/common.do?method=getLottoNumber&drwNo=로또회차번호"
   ]
  }
 ],
 "metadata": {
  "kernelspec": {
   "display_name": "base",
   "language": "python",
   "name": "python3"
  },
  "language_info": {
   "codemirror_mode": {
    "name": "ipython",
    "version": 3
   },
   "file_extension": ".py",
   "mimetype": "text/x-python",
   "name": "python",
   "nbconvert_exporter": "python",
   "pygments_lexer": "ipython3",
   "version": "3.9.7"
  },
  "orig_nbformat": 4,
  "vscode": {
   "interpreter": {
    "hash": "5651474b382b0c8e5437184606bf27bc477a71bc0cabdc803488fed4e48f4106"
   }
  }
 },
 "nbformat": 4,
 "nbformat_minor": 2
}
