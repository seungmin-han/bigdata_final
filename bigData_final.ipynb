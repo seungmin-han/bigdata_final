{
 "cells": [
  {
   "cell_type": "code",
   "execution_count": 19,
   "metadata": {},
   "outputs": [
    {
     "name": "stdout",
     "output_type": "stream",
     "text": [
      "Url Request Success\n",
      "Url Request Success\n",
      "Url Request Success\n",
      "Url Request Success\n",
      "Url Request Success\n",
      "Url Request Success\n",
      "Url Request Success\n",
      "Url Request Success\n",
      "Url Request Success\n",
      "[{'totSellamnt': 3681782000, 'returnValue': 'success', 'drwNoDate': '2002-12-07', 'firstWinamnt': 0, 'drwtNo6': 40, 'drwtNo4': 33, 'firstPrzwnerCo': 0, 'drwtNo5': 37, 'bnusNo': 16, 'firstAccumamnt': 863604600, 'drwNo': 1, 'drwtNo2': 23, 'drwtNo3': 29, 'drwtNo1': 10}, {'totSellamnt': 4904274000, 'returnValue': 'success', 'drwNoDate': '2002-12-14', 'firstWinamnt': 2002006800, 'drwtNo6': 42, 'drwtNo4': 25, 'firstPrzwnerCo': 1, 'drwtNo5': 32, 'bnusNo': 2, 'firstAccumamnt': 0, 'drwNo': 2, 'drwtNo2': 13, 'drwtNo3': 21, 'drwtNo1': 9}, {'totSellamnt': 4729342000, 'returnValue': 'success', 'drwNoDate': '2002-12-21', 'firstWinamnt': 2000000000, 'drwtNo6': 31, 'drwtNo4': 21, 'firstPrzwnerCo': 1, 'drwtNo5': 27, 'bnusNo': 30, 'firstAccumamnt': 0, 'drwNo': 3, 'drwtNo2': 16, 'drwtNo3': 19, 'drwtNo1': 11}, {'totSellamnt': 5271464000, 'returnValue': 'success', 'drwNoDate': '2002-12-28', 'firstWinamnt': 0, 'drwtNo6': 42, 'drwtNo4': 31, 'firstPrzwnerCo': 0, 'drwtNo5': 40, 'bnusNo': 2, 'firstAccumamnt': 1267147200, 'drwNo': 4, 'drwtNo2': 27, 'drwtNo3': 30, 'drwtNo1': 14}, {'totSellamnt': 6277102000, 'returnValue': 'success', 'drwNoDate': '2003-01-04', 'firstWinamnt': 0, 'drwtNo6': 42, 'drwtNo4': 40, 'firstPrzwnerCo': 0, 'drwtNo5': 41, 'bnusNo': 3, 'firstAccumamnt': 3041094900, 'drwNo': 5, 'drwtNo2': 24, 'drwtNo3': 29, 'drwtNo1': 16}, {'totSellamnt': 15305356000, 'returnValue': 'success', 'drwNoDate': '2003-01-11', 'firstWinamnt': 6574451700, 'drwtNo6': 42, 'drwtNo4': 27, 'firstPrzwnerCo': 1, 'drwtNo5': 40, 'bnusNo': 34, 'firstAccumamnt': 0, 'drwNo': 6, 'drwtNo2': 15, 'drwtNo3': 26, 'drwtNo1': 14}, {'totSellamnt': 12794890000, 'returnValue': 'success', 'drwNoDate': '2003-01-18', 'firstWinamnt': 0, 'drwtNo6': 40, 'drwtNo4': 25, 'firstPrzwnerCo': 0, 'drwtNo5': 26, 'bnusNo': 42, 'firstAccumamnt': 2600913000, 'drwNo': 7, 'drwtNo2': 9, 'drwtNo3': 16, 'drwtNo1': 2}, {'totSellamnt': 20751450000, 'returnValue': 'success', 'drwNoDate': '2003-01-25', 'firstWinamnt': 0, 'drwtNo6': 39, 'drwtNo4': 34, 'firstPrzwnerCo': 0, 'drwtNo5': 37, 'bnusNo': 9, 'firstAccumamnt': 7336896000, 'drwNo': 8, 'drwtNo2': 19, 'drwtNo3': 25, 'drwtNo1': 8}, {'totSellamnt': 73624020000, 'returnValue': 'success', 'drwNoDate': '2003-02-01', 'firstWinamnt': 0, 'drwtNo6': 39, 'drwtNo4': 17, 'firstPrzwnerCo': 0, 'drwtNo5': 36, 'bnusNo': 14, 'firstAccumamnt': 25803852000, 'drwNo': 9, 'drwtNo2': 4, 'drwtNo3': 16, 'drwtNo1': 2}]\n",
      "   totSellamnt returnValue   drwNoDate  firstWinamnt  drwtNo6  drwtNo4  \\\n",
      "0   3681782000     success  2002-12-07             0       40       33   \n",
      "1   4904274000     success  2002-12-14    2002006800       42       25   \n",
      "2   4729342000     success  2002-12-21    2000000000       31       21   \n",
      "3   5271464000     success  2002-12-28             0       42       31   \n",
      "4   6277102000     success  2003-01-04             0       42       40   \n",
      "5  15305356000     success  2003-01-11    6574451700       42       27   \n",
      "6  12794890000     success  2003-01-18             0       40       25   \n",
      "7  20751450000     success  2003-01-25             0       39       34   \n",
      "8  73624020000     success  2003-02-01             0       39       17   \n",
      "\n",
      "   firstPrzwnerCo  drwtNo5  bnusNo  firstAccumamnt  drwNo  drwtNo2  drwtNo3  \\\n",
      "0               0       37      16       863604600      1       23       29   \n",
      "1               1       32       2               0      2       13       21   \n",
      "2               1       27      30               0      3       16       19   \n",
      "3               0       40       2      1267147200      4       27       30   \n",
      "4               0       41       3      3041094900      5       24       29   \n",
      "5               1       40      34               0      6       15       26   \n",
      "6               0       26      42      2600913000      7        9       16   \n",
      "7               0       37       9      7336896000      8       19       25   \n",
      "8               0       36      14     25803852000      9        4       16   \n",
      "\n",
      "   drwtNo1  \n",
      "0       10  \n",
      "1        9  \n",
      "2       11  \n",
      "3       14  \n",
      "4       16  \n",
      "5       14  \n",
      "6        2  \n",
      "7        8  \n",
      "8        2  \n"
     ]
    }
   ],
   "source": [
    "import urllib.request\n",
    "import json\n",
    "\n",
    "import pandas as pd\n",
    "\n",
    "def getLotto(idx):\n",
    "    req = urllib.request.Request(f\"http://www.dhlottery.co.kr/common.do?method=getLottoNumber&drwNo={idx}\")    \n",
    "    try: \n",
    "      response = urllib.request.urlopen(req)\n",
    "      if response.getcode() == 200:\n",
    "        print(\"Url Request Success\")\n",
    "        jsonObj = json.loads(response.read().decode('utf-8'))\n",
    "        return jsonObj\n",
    "    except Exception as e:\n",
    "        print(e)\n",
    "        print(\"Error for URL \")\n",
    "        return None\n",
    "\n",
    "result = []\n",
    "\n",
    "for i in range(1,10):\n",
    "    result.append(getLotto(i))\n",
    "print(json.loads(json.dumps(result)))\n",
    "print(pd.read_json(json.dumps(result)))\n",
    "# www.dhlottery.co.kr/common.do?method=getLottoNumber&drwNo=로또회차번호"
   ]
  }
 ],
 "metadata": {
  "kernelspec": {
   "display_name": "base",
   "language": "python",
   "name": "python3"
  },
  "language_info": {
   "codemirror_mode": {
    "name": "ipython",
    "version": 3
   },
   "file_extension": ".py",
   "mimetype": "text/x-python",
   "name": "python",
   "nbconvert_exporter": "python",
   "pygments_lexer": "ipython3",
   "version": "3.9.7"
  },
  "orig_nbformat": 4,
  "vscode": {
   "interpreter": {
    "hash": "5651474b382b0c8e5437184606bf27bc477a71bc0cabdc803488fed4e48f4106"
   }
  }
 },
 "nbformat": 4,
 "nbformat_minor": 2
}
