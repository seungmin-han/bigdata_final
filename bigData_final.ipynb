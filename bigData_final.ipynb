{
 "cells": [
  {
   "cell_type": "code",
   "execution_count": 26,
   "metadata": {},
   "outputs": [
    {
     "name": "stdout",
     "output_type": "stream",
     "text": [
      "Url Request Success\n",
      "Url Request Success\n",
      "Url Request Success\n",
      "Url Request Success\n",
      "Url Request Success\n",
      "Url Request Success\n",
      "Url Request Success\n",
      "Url Request Success\n",
      "Url Request Success\n"
     ]
    }
   ],
   "source": [
    "import csv\n",
    "import urllib.request\n",
    "import json\n",
    "\n",
    "import pandas as pd\n",
    "\n",
    "def getLotto(idx):\n",
    "    req = urllib.request.Request(f\"http://www.dhlottery.co.kr/common.do?method=getLottoNumber&drwNo={idx}\")    \n",
    "    try: \n",
    "      response = urllib.request.urlopen(req)\n",
    "      if response.getcode() == 200:\n",
    "        print(\"Url Request Success\")\n",
    "        jsonObj = json.loads(response.read().decode('utf-8'))\n",
    "        return jsonObj\n",
    "    except Exception as e:\n",
    "        print(e)\n",
    "        print(\"Error for URL \")\n",
    "        return None\n",
    "\n",
    "result = []\n",
    "\n",
    "for i in range(1,1046):\n",
    "    result.append(getLotto(i))\n",
    "# print(json.loads(json.dumps(result)))\n",
    "df = pd.read_json(json.dumps(result))\n",
    "df.to_csv('data.csv')\n",
    "# www.dhlottery.co.kr/common.do?method=getLottoNumber&drwNo=로또회차번호"
   ]
  }
 ],
 "metadata": {
  "kernelspec": {
   "display_name": "base",
   "language": "python",
   "name": "python3"
  },
  "language_info": {
   "codemirror_mode": {
    "name": "ipython",
    "version": 3
   },
   "file_extension": ".py",
   "mimetype": "text/x-python",
   "name": "python",
   "nbconvert_exporter": "python",
   "pygments_lexer": "ipython3",
   "version": "3.9.7"
  },
  "orig_nbformat": 4,
  "vscode": {
   "interpreter": {
    "hash": "5651474b382b0c8e5437184606bf27bc477a71bc0cabdc803488fed4e48f4106"
   }
  }
 },
 "nbformat": 4,
 "nbformat_minor": 2
}
