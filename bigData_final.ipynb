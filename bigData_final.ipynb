{
 "cells": [
  {
   "cell_type": "code",
   "execution_count": 1,
   "metadata": {},
   "outputs": [
    {
     "name": "stdout",
     "output_type": "stream",
     "text": [
      "Url Request Success\n",
      "{\"totSellamnt\":3681782000,\"returnValue\":\"success\",\"drwNoDate\":\"2002-12-07\",\"firstWinamnt\":0,\"drwtNo6\":40,\"drwtNo4\":33,\"firstPrzwnerCo\":0,\"drwtNo5\":37,\"bnusNo\":16,\"firstAccumamnt\":863604600,\"drwNo\":1,\"drwtNo2\":23,\"drwtNo3\":29,\"drwtNo1\":10}\n"
     ]
    }
   ],
   "source": [
    "import urllib.request\n",
    "import json\n",
    "\n",
    "req = urllib.request.Request(\"http://www.dhlottery.co.kr/common.do?method=getLottoNumber&drwNo=1\")    \n",
    "try: \n",
    "  response = urllib.request.urlopen(req)\n",
    "  if response.getcode() == 200:\n",
    "    print(\"Url Request Success\")\n",
    "    print(response.read().decode('utf-8'))\n",
    "except Exception as e:\n",
    "    print(e)\n",
    "    print(\"Error for URL \")\n",
    "\n",
    "# www.dhlottery.co.kr/common.do?method=getLottoNumber&drwNo=로또회차번호"
   ]
  }
 ],
 "metadata": {
  "kernelspec": {
   "display_name": "base",
   "language": "python",
   "name": "python3"
  },
  "language_info": {
   "codemirror_mode": {
    "name": "ipython",
    "version": 3
   },
   "file_extension": ".py",
   "mimetype": "text/x-python",
   "name": "python",
   "nbconvert_exporter": "python",
   "pygments_lexer": "ipython3",
   "version": "3.9.7"
  },
  "orig_nbformat": 4,
  "vscode": {
   "interpreter": {
    "hash": "5651474b382b0c8e5437184606bf27bc477a71bc0cabdc803488fed4e48f4106"
   }
  }
 },
 "nbformat": 4,
 "nbformat_minor": 2
}
